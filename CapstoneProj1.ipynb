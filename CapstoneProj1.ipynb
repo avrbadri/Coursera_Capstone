** This sample project is to write a hello world program in capstone project**
** I cant use a jupyter notebook due to a constraint and hence using a notepad and using commands to make markdown bold**

import pandas as pd
import Numpy as np
Print ("Hello Capstone Project")